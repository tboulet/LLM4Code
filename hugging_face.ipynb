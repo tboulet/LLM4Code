{
 "cells": [
  {
   "cell_type": "code",
   "execution_count": 3,
   "metadata": {},
   "outputs": [],
   "source": []
  },
  {
   "cell_type": "markdown",
   "metadata": {},
   "source": [
    "# HuggingFace Transformers"
   ]
  },
  {
   "cell_type": "markdown",
   "metadata": {},
   "source": [
    "# I - Import tokenizers, create/import huggingface models\n",
    "\n",
    "In this part we learn how to import from the HF hub tokenizers and models.\n",
    "We then give an example of a simple inference pipeline : from a batch of textual sentences to a batch of sequence embeddings."
   ]
  },
  {
   "cell_type": "code",
   "execution_count": 51,
   "metadata": {},
   "outputs": [
    {
     "name": "stdout",
     "output_type": "stream",
     "text": [
      "{'input_ids': tensor([[  101,  1045,  1005,  2310,  2042,  3403,  2005,  1037, 17662, 12172,\n",
      "          2607,  2026,  2878,  2166,  1012,   102],\n",
      "        [  101,  1045,  5223,  2023,  2061,  2172,   999,   102,     0,     0,\n",
      "             0,     0,     0,     0,     0,     0]]), 'attention_mask': tensor([[1, 1, 1, 1, 1, 1, 1, 1, 1, 1, 1, 1, 1, 1, 1, 1],\n",
      "        [1, 1, 1, 1, 1, 1, 1, 1, 0, 0, 0, 0, 0, 0, 0, 0]])}\n",
      "[CLS] i've been waiting for a huggingface course my whole life. [SEP]\n"
     ]
    }
   ],
   "source": [
    "# Import a tokenizer from a specific checkpoint\n",
    "from transformers import AutoTokenizer\n",
    "\n",
    "checkpoint = \"distilbert-base-uncased-finetuned-sst-2-english\"\n",
    "tokenizer = AutoTokenizer.from_pretrained(checkpoint)\n",
    "\n",
    "# Convert text to model-input\n",
    "raw_inputs = [\n",
    "    \"I've been waiting for a HuggingFace course my whole life.\",\n",
    "    \"I hate this so much!\",\n",
    "]\n",
    "tokenized_sentences = tokenizer(raw_inputs, padding=True, truncation=True, return_tensors=\"pt\")\n",
    "print(tokenized_sentences)\n",
    "\n",
    "# Decode tokens IDs back to a string\n",
    "decoded = tokenizer.decode(tokenized_sentences[\"input_ids\"][0])\n",
    "print(decoded)"
   ]
  },
  {
   "cell_type": "code",
   "execution_count": null,
   "metadata": {},
   "outputs": [
    {
     "name": "stdout",
     "output_type": "stream",
     "text": [
      "torch.Size([2, 16, 768])\n",
      "tensor([[-1.5607,  1.6123],\n",
      "        [ 4.1692, -3.3464]], grad_fn=<AddmmBackward0>)\n",
      "torch.Size([2, 2])\n"
     ]
    }
   ],
   "source": [
    "# Import a model from a specific checkpoint\n",
    "from transformers import AutoModel\n",
    "model = AutoModel.from_pretrained(checkpoint)\n",
    "outputs = model(**tokenized_sentences)\n",
    "print(outputs.last_hidden_state.shape) # (B, T, hidden_size)\n",
    "\n",
    "# You can import a model for a different task but from the same checkpoint. AutoModel is a model : sentence --> hidden states (decoder)\n",
    "from transformers import AutoModelForSequenceClassification\n",
    "model = AutoModelForSequenceClassification.from_pretrained(checkpoint)\n",
    "outputs = model(**tokenized_sentences)\n",
    "print(outputs.logits)\n",
    "print(outputs.logits.shape) # (B, num_labels)"
   ]
  },
  {
   "cell_type": "code",
   "execution_count": null,
   "metadata": {},
   "outputs": [
    {
     "name": "stdout",
     "output_type": "stream",
     "text": [
      "config: BertConfig {\n",
      "  \"attention_probs_dropout_prob\": 0.1,\n",
      "  \"classifier_dropout\": null,\n",
      "  \"hidden_act\": \"gelu\",\n",
      "  \"hidden_dropout_prob\": 0.1,\n",
      "  \"hidden_size\": 768,\n",
      "  \"initializer_range\": 0.02,\n",
      "  \"intermediate_size\": 3072,\n",
      "  \"layer_norm_eps\": 1e-12,\n",
      "  \"max_position_embeddings\": 512,\n",
      "  \"model_type\": \"bert\",\n",
      "  \"num_attention_heads\": 12,\n",
      "  \"num_hidden_layers\": 12,\n",
      "  \"pad_token_id\": 0,\n",
      "  \"position_embedding_type\": \"absolute\",\n",
      "  \"transformers_version\": \"4.48.1\",\n",
      "  \"type_vocab_size\": 2,\n",
      "  \"use_cache\": true,\n",
      "  \"vocab_size\": 30522\n",
      "}\n",
      "\n"
     ]
    }
   ],
   "source": [
    "# Creating a transformer\n",
    "from transformers import BertConfig, BertModel\n",
    "\n",
    "# Building the config\n",
    "config = BertConfig()\n",
    "print(f\"config: {config}\")\n",
    "\n",
    "# Building the model\n",
    "model = BertModel(config) # from the config (architecture) : random weights\n",
    "model = BertModel.from_pretrained(\"bert-base-cased\") # from a checkpoint : pretrained weights\n",
    "# model = AutoModel.from_pretrained(\"bert-base-cased\") # from a checkpoint : pretrained weights (same as above)\n",
    "\n",
    "model.save_pretrained(\"models/my_bert_model\") # save the model (architecture + weights) to a directory"
   ]
  },
  {
   "cell_type": "code",
   "execution_count": null,
   "metadata": {},
   "outputs": [
    {
     "name": "stdout",
     "output_type": "stream",
     "text": [
      "tensor([[ 101, 7592, 1010, 1045, 1005, 1049, 1037, 2309, 6251,  102],\n",
      "        [ 101, 1998, 2178, 6251,  102,    0,    0,    0,    0,    0]])\n",
      "torch.Size([2, 10])\n",
      "torch.Size([2, 10])\n",
      "torch.Size([2, 10, 768])\n"
     ]
    },
    {
     "name": "stderr",
     "output_type": "stream",
     "text": [
      "/tmp/ipykernel_21297/1726034789.py:21: UserWarning: To copy construct from a tensor, it is recommended to use sourceTensor.clone().detach() or sourceTensor.clone().detach().requires_grad_(True), rather than torch.tensor(sourceTensor).\n",
      "  model_inputs = torch.tensor(inputs.input_ids) # convert the input_ids to a tensor\n"
     ]
    }
   ],
   "source": [
    "# Perform a forward pass :\n",
    "\n",
    "# 1. We have some input data\n",
    "sentences = [\n",
    "    \"Hello, I'm a single sentence\",\n",
    "    \"And another sentence\",\n",
    "]\n",
    "\n",
    "# 2. Tokenize the inputs : from a list of sentences to a list-matrix (thanks to padding) of token ids of shape (B, T_max)\n",
    "tokenized_sentences = tokenizer(\n",
    "    sentences, \n",
    "    padding=True,  # unsure shortest sentences are padded to the length of the longest sentence\n",
    "    truncation=True,   # truncate the sentences to the maximum length of the model \n",
    "    return_tensors=\"pt\", # return PyTorch tensors (?)\n",
    ")\n",
    "print(tokenized_sentences.input_ids)\n",
    "print(tokenized_sentences.input_ids.shape) # (B, T_max) with T_max = max length of the sentences of the batch\n",
    "\n",
    "# 3. Convert the input_ids to a pytorch tensor. This step is actually not necessary as the tokenizer can return tensors directly.\n",
    "import torch\n",
    "model_inputs = torch.tensor(tokenized_sentences.input_ids) # convert the input_ids to a tensor\n",
    "print(model_inputs.shape) # (B, T_max)\n",
    "\n",
    "# 4. Perform a forward pass of the model\n",
    "outputs = model(model_inputs)\n",
    "print(outputs.last_hidden_state.shape) # (B, T_max, hidden_size)"
   ]
  },
  {
   "cell_type": "markdown",
   "metadata": {},
   "source": [
    "The call x --> tokenizer(x, padding=True, truncation=True, return_tensors='pt') is a very powerfull method, because :\n",
    "- it can handle non-batched inputs (a single string, treated as a batch of size 1)\n",
    "- it padds and truncates the inputs so that it is treatable by the model\n",
    "- it can return the inputs as PyTorch tensors directly\n",
    "\n",
    "In a bit more low level, there is the following code generally used :"
   ]
  },
  {
   "cell_type": "code",
   "execution_count": 56,
   "metadata": {},
   "outputs": [
    {
     "name": "stdout",
     "output_type": "stream",
     "text": [
      "Original sentences : [\"Hello, I'm a single sentence\", 'And another sentence']\n",
      "Tokens Object (wrong concatenating way) : ['hello', ',', 'i', \"'\", 'm', 'a', 'single', 'sentence', 'and', 'another', 'sentence']\n",
      "Tokens Object (correct batching way) : [['hello', ',', 'i', \"'\", 'm', 'a', 'single', 'sentence'], ['and', 'another', 'sentence']]\n",
      "IDs of tokens: list of list of lens : [8, 3] with each list containing types : <class 'int'>\n",
      "Padding ID : 0\n",
      "Max Context Length : 512\n",
      "IDs of tokens padded and truncated : [[7592, 1010, 1045, 1005, 1049, 1037, 2309, 6251], [1998, 2178, 6251, 0, 0, 0, 0, 0]]\n",
      "Inputs model shape: torch.Size([2, 8])\n",
      "Attention mask : tensor([[1., 1., 1., 1., 1., 1., 1., 1.],\n",
      "        [1., 1., 1., 0., 0., 0., 0., 0.]])\n",
      "Last hidden states shape: torch.Size([2, 8, 768])\n"
     ]
    }
   ],
   "source": [
    "sentences = [\n",
    "    \"Hello, I'm a single sentence\",\n",
    "    \"And another sentence\",\n",
    "]\n",
    "print(f\"Original sentences : {sentences}\")\n",
    "\n",
    "# Sentences to tokens IDs\n",
    "tokens = tokenizer.tokenize(sentences) # carefull, this will create a list of tokens of size sum(len(sentence) for sentence in sentences)...\n",
    "print(f\"Tokens Object (wrong concatenating way) : {tokens}\")\n",
    "\n",
    "tokens = [tokenizer.tokenize(sentence) for sentence in sentences] # ... instead of a list of list of tokens\n",
    "print(f\"Tokens Object (correct batching way) : {tokens}\")\n",
    "\n",
    "ids = [tokenizer.convert_tokens_to_ids(token) for token in tokens] # convert the tokens to ids\n",
    "print(f\"IDs of tokens: list of list of lens : {[len(i) for i in ids]} with each list containing types : {type(ids[0][0])}\")\n",
    "\n",
    "# Padding and truncating\n",
    "padding_id = tokenizer.pad_token_id # get the padding token id\n",
    "max_context_length = model.config.max_position_embeddings # get the maximum length of the model\n",
    "print(f\"Padding ID : {padding_id}\")\n",
    "print(f\"Max Context Length : {max_context_length}\")\n",
    "T_max = max([len(i) for i in ids]) # get the maximum length of the sentences\n",
    "ids_padded = [i + [padding_id] * (T_max - len(i)) for i in ids] # pad the sentences\n",
    "ids_padded_truncated = [i[:max_context_length] for i in ids_padded] # truncate the sentences\n",
    "print(f\"IDs of tokens padded and truncated : {ids_padded_truncated}\")\n",
    "inputs_model = torch.tensor(ids_padded_truncated)\n",
    "print(f\"Inputs model shape: {inputs_model.shape}\") # (B, min(T_max, max_context_length))\n",
    "\n",
    "# Getting attention masks\n",
    "attention_mask = (inputs_model != padding_id).float() # create the attention mask\n",
    "print(f\"Attention mask : {attention_mask}\")\n",
    "\n",
    "# Infer hidden states\n",
    "outputs = model(inputs_model, attention_mask=attention_mask) # perform a forward pass\n",
    "print(f\"Last hidden states shape: {outputs.last_hidden_state.shape}\") # (B, T, hidden_size)\n",
    "    "
   ]
  },
  {
   "cell_type": "markdown",
   "metadata": {},
   "source": [
    "## The attention mask\n",
    "\n",
    "The attention mask can be accessed through the returned dictionary of the tokenizer : ```tokenizer(sentences).attention_mask```. \n",
    "\n",
    "It is a tensor of 0s and 1s, with 1s indicating the tokens that should have an influence on the attention of any other word in the same sentence.\n",
    "\n",
    "For inference for example, without attention masking, [\"hello\", \"world\"] and [\"hello\", \"world\", \"[PAD]\"] would have different embeddings, because the padding token would have an influence on the attention of the other tokens. It has also a role to play in training (masking the future tokens in the case of autoregressive models)."
   ]
  },
  {
   "cell_type": "markdown",
   "metadata": {},
   "source": [
    "## Decoding tokens IDs\n",
    "\n",
    "This is the procedure to decode the token IDs back to strings :"
   ]
  },
  {
   "cell_type": "code",
   "execution_count": 69,
   "metadata": {},
   "outputs": [
    {
     "name": "stdout",
     "output_type": "stream",
     "text": [
      "Decoded sentence 1 : hello, i'm a single sentence\n",
      "Decoded sentence 2 : and another sentence [PAD] [PAD] [PAD] [PAD] [PAD]\n",
      "Decoded sentence 2 without special tokens : and another sentence\n",
      "Decoded sentence 1 : [CLS] hello, i'm a single sentence [SEP]\n"
     ]
    }
   ],
   "source": [
    "# Decode the first sentence. We can see capital letters are removed.\n",
    "tokens_ids_sentence_1 = inputs_model[0, :]\n",
    "decoded_sentence_1 = tokenizer.decode(tokens_ids_sentence_1)\n",
    "print(f\"Decoded sentence 1 : {decoded_sentence_1}\")\n",
    "\n",
    "# Concerning sentence 2, we can see the apparition of padding tokens. \n",
    "tokens_ids_sentence_2 = inputs_model[1, :]\n",
    "decoded_sentence_2 = tokenizer.decode(tokens_ids_sentence_2)\n",
    "print(f\"Decoded sentence 2 : {decoded_sentence_2}\")\n",
    "\n",
    "# You can remove them using :\n",
    "decoded_sentence_2 = tokenizer.decode(tokens_ids_sentence_2, skip_special_tokens=True)\n",
    "print(f\"Decoded sentence 2 without special tokens : {decoded_sentence_2}\")\n",
    "\n",
    "# If you use tokenizer(), because this high level method prepares the input for the model.\n",
    "ids = tokenizer(sentences, padding=True, truncation=True, return_tensors=\"pt\")[\"input_ids\"]\n",
    "sentences_decoded = tokenizer.decode(ids[0])\n",
    "print(f\"Decoded sentence 1 : {sentences_decoded}\")"
   ]
  },
  {
   "cell_type": "markdown",
   "metadata": {},
   "source": [
    "# Wrapping up"
   ]
  },
  {
   "cell_type": "code",
   "execution_count": 71,
   "metadata": {},
   "outputs": [
    {
     "name": "stdout",
     "output_type": "stream",
     "text": [
      "{'input_ids': tensor([[  101,  1045,  1005,  2310,  2042,  3403,  2005,  1037, 17662, 12172,\n",
      "          2607,  2026,  2878,  2166,  1012,   102],\n",
      "        [  101,  2061,  2031,  1045,   999,   102,     0,     0,     0,     0,\n",
      "             0,     0,     0,     0,     0,     0]]), 'attention_mask': tensor([[1, 1, 1, 1, 1, 1, 1, 1, 1, 1, 1, 1, 1, 1, 1, 1],\n",
      "        [1, 1, 1, 1, 1, 1, 0, 0, 0, 0, 0, 0, 0, 0, 0, 0]])}\n",
      "tensor([[-1.5607,  1.6123],\n",
      "        [-3.6183,  3.9137]], grad_fn=<AddmmBackward0>)\n"
     ]
    }
   ],
   "source": [
    "import torch\n",
    "from transformers import AutoTokenizer, AutoModelForSequenceClassification\n",
    "\n",
    "checkpoint = \"distilbert-base-uncased-finetuned-sst-2-english\"\n",
    "tokenizer = AutoTokenizer.from_pretrained(checkpoint)\n",
    "model = AutoModelForSequenceClassification.from_pretrained(checkpoint)\n",
    "sequences = [\"I've been waiting for a HuggingFace course my whole life.\", \"So have I!\"]\n",
    "\n",
    "tokens = tokenizer(sequences, padding=True, truncation=True, return_tensors=\"pt\")\n",
    "print(tokens)\n",
    "output = model(**tokens)\n",
    "print(output.logits)"
   ]
  },
  {
   "cell_type": "code",
   "execution_count": null,
   "metadata": {},
   "outputs": [],
   "source": []
  }
 ],
 "metadata": {
  "kernelspec": {
   "display_name": "venv",
   "language": "python",
   "name": "python3"
  },
  "language_info": {
   "codemirror_mode": {
    "name": "ipython",
    "version": 3
   },
   "file_extension": ".py",
   "mimetype": "text/x-python",
   "name": "python",
   "nbconvert_exporter": "python",
   "pygments_lexer": "ipython3",
   "version": "3.10.16"
  }
 },
 "nbformat": 4,
 "nbformat_minor": 2
}
